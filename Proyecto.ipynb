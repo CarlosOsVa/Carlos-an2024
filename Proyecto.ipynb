{
 "cells": [
  {
   "cell_type": "markdown",
   "id": "individual-mistress",
   "metadata": {},
   "source": [
    "# Proyecto"
   ]
  },
  {
   "cell_type": "markdown",
   "id": "horizontal-active",
   "metadata": {},
   "source": [
    "1. Concepto"
   ]
  },
  {
   "cell_type": "markdown",
   "id": "maritime-cloud",
   "metadata": {},
   "source": [
    "Ecuación de Beattie-Bridgeman"
   ]
  },
  {
   "cell_type": "markdown",
   "id": "extended-webster",
   "metadata": {},
   "source": [
    "A traves de los años se han propuesto diversas ecuaciones para explicar los datos $pVT$ observados para gases, siendo la ecuación de van der Waals una de ellas. Sin embargo, la ecuación de Beattie-Bridgeman es de las más apropiadas para trabajos de precisión. Esta ecuación comprende cinco constantes además de $R$: $A_o$, $a$, $B_o$, $b$ y $c$. Estos valores son obtenidos experimentalmente y pueden ser consultados para alguno gases. La ecuación en su forma virial es:"
   ]
  },
  {
   "cell_type": "markdown",
   "id": "fifth-brass",
   "metadata": {},
   "source": [
    "$pV = RT + \\frac{\\beta}{V} + \\frac{\\gamma}{V^2} + \\frac{\\delta}{V^3}$"
   ]
  },
  {
   "cell_type": "markdown",
   "id": "thorough-diploma",
   "metadata": {},
   "source": [
    "Que puede ser expresada como:"
   ]
  },
  {
   "cell_type": "markdown",
   "id": "taken-flash",
   "metadata": {},
   "source": [
    "$f(V) = (RT + \\frac{\\beta}{V} + \\frac{\\gamma}{V^2} + \\frac{\\delta}{V^3}) \\frac{1}{p} - V$"
   ]
  },
  {
   "cell_type": "markdown",
   "id": "cleared-pursuit",
   "metadata": {},
   "source": [
    "2. Propuesta"
   ]
  },
  {
   "cell_type": "code",
   "execution_count": 9,
   "id": "departmental-builder",
   "metadata": {},
   "outputs": [],
   "source": [
    "import numpy as np\n",
    "import sympy as sy\n",
    "import matplotlib.pyplot as plt"
   ]
  },
  {
   "cell_type": "code",
   "execution_count": 10,
   "id": "postal-lender",
   "metadata": {},
   "outputs": [],
   "source": [
    "def beta(R,T,a0,b0,a,b,c):\n",
    "    bet = R*T*b0 - a0 - (R*c/(T**2))\n",
    "    return bet"
   ]
  },
  {
   "cell_type": "code",
   "execution_count": 11,
   "id": "swiss-sharp",
   "metadata": {},
   "outputs": [],
   "source": [
    "def gamma(R,T,a0,b0,a,b,c):\n",
    "    gam = -R*T*b0*b + a0*a - (R*c*b0/(T**2))\n",
    "    return gam"
   ]
  },
  {
   "cell_type": "code",
   "execution_count": 12,
   "id": "eight-acrobat",
   "metadata": {},
   "outputs": [],
   "source": [
    "def delta(R,T,b0,b,c):\n",
    "    delt = R*b0*b*c/(T**2)\n",
    "    return delt"
   ]
  },
  {
   "cell_type": "code",
   "execution_count": 21,
   "id": "hundred-tonight",
   "metadata": {},
   "outputs": [],
   "source": [
    "def vol(R,T,p):\n",
    "    V = 1\n",
    "    f = (R*T + beta/V + gamma/V**2 + delta/V**3)*(1/p) - V\n",
    "    return f"
   ]
  },
  {
   "cell_type": "code",
   "execution_count": 24,
   "id": "crude-ethiopia",
   "metadata": {},
   "outputs": [],
   "source": [
    "def dvol(R,T,p):\n",
    "    df = (-2*beta/V**2 - 3*gamma/V**3 - 4*delta/V**4)*(1/p) - 1\n",
    "    return df"
   ]
  },
  {
   "cell_type": "code",
   "execution_count": 22,
   "id": "necessary-dealer",
   "metadata": {},
   "outputs": [],
   "source": [
    "a0 = 2.2769\n",
    "b0 = 0.05587\n",
    "a = 0.01855\n",
    "b = -0.01587\n",
    "c = 12.83*10**4\n",
    "R = 0.08205\n",
    "p = 1\n",
    "T = 0"
   ]
  },
  {
   "cell_type": "code",
   "execution_count": 25,
   "id": "fixed-priest",
   "metadata": {},
   "outputs": [
    {
     "ename": "TypeError",
     "evalue": "unsupported operand type(s) for *: 'int' and 'function'",
     "output_type": "error",
     "traceback": [
      "\u001b[0;31m---------------------------------------------------------------------------\u001b[0m",
      "\u001b[0;31mTypeError\u001b[0m                                 Traceback (most recent call last)",
      "\u001b[0;32m<ipython-input-25-28fc468dfa50>\u001b[0m in \u001b[0;36m<module>\u001b[0;34m\u001b[0m\n\u001b[0;32m----> 1\u001b[0;31m \u001b[0mdvol\u001b[0m\u001b[0;34m(\u001b[0m\u001b[0mR\u001b[0m\u001b[0;34m,\u001b[0m\u001b[0mT\u001b[0m\u001b[0;34m,\u001b[0m\u001b[0mp\u001b[0m\u001b[0;34m)\u001b[0m\u001b[0;34m\u001b[0m\u001b[0;34m\u001b[0m\u001b[0m\n\u001b[0m",
      "\u001b[0;32m<ipython-input-24-99d5c9e09ad0>\u001b[0m in \u001b[0;36mdvol\u001b[0;34m(R, T, p)\u001b[0m\n\u001b[1;32m      1\u001b[0m \u001b[0;32mdef\u001b[0m \u001b[0mdvol\u001b[0m\u001b[0;34m(\u001b[0m\u001b[0mR\u001b[0m\u001b[0;34m,\u001b[0m\u001b[0mT\u001b[0m\u001b[0;34m,\u001b[0m\u001b[0mp\u001b[0m\u001b[0;34m)\u001b[0m\u001b[0;34m:\u001b[0m\u001b[0;34m\u001b[0m\u001b[0;34m\u001b[0m\u001b[0m\n\u001b[0;32m----> 2\u001b[0;31m     \u001b[0mdf\u001b[0m \u001b[0;34m=\u001b[0m \u001b[0;34m(\u001b[0m\u001b[0;34m-\u001b[0m\u001b[0;36m2\u001b[0m\u001b[0;34m*\u001b[0m\u001b[0mbeta\u001b[0m\u001b[0;34m/\u001b[0m\u001b[0mV\u001b[0m\u001b[0;34m**\u001b[0m\u001b[0;36m2\u001b[0m \u001b[0;34m-\u001b[0m \u001b[0;36m3\u001b[0m\u001b[0;34m*\u001b[0m\u001b[0mgamma\u001b[0m\u001b[0;34m/\u001b[0m\u001b[0mV\u001b[0m\u001b[0;34m**\u001b[0m\u001b[0;36m3\u001b[0m \u001b[0;34m-\u001b[0m \u001b[0;36m4\u001b[0m\u001b[0;34m*\u001b[0m\u001b[0mdelta\u001b[0m\u001b[0;34m/\u001b[0m\u001b[0mV\u001b[0m\u001b[0;34m**\u001b[0m\u001b[0;36m4\u001b[0m\u001b[0;34m)\u001b[0m\u001b[0;34m*\u001b[0m\u001b[0;34m(\u001b[0m\u001b[0;36m1\u001b[0m\u001b[0;34m/\u001b[0m\u001b[0mp\u001b[0m\u001b[0;34m)\u001b[0m \u001b[0;34m-\u001b[0m \u001b[0;36m1\u001b[0m\u001b[0;34m\u001b[0m\u001b[0;34m\u001b[0m\u001b[0m\n\u001b[0m\u001b[1;32m      3\u001b[0m     \u001b[0;32mreturn\u001b[0m \u001b[0mdf\u001b[0m\u001b[0;34m\u001b[0m\u001b[0;34m\u001b[0m\u001b[0m\n",
      "\u001b[0;31mTypeError\u001b[0m: unsupported operand type(s) for *: 'int' and 'function'"
     ]
    }
   ],
   "source": [
    "dvol(R,T,p)"
   ]
  },
  {
   "cell_type": "markdown",
   "id": "cosmetic-charge",
   "metadata": {},
   "source": [
    "3. Implementación"
   ]
  },
  {
   "cell_type": "markdown",
   "id": "rising-lebanon",
   "metadata": {},
   "source": [
    "4. Resultados"
   ]
  },
  {
   "cell_type": "markdown",
   "id": "nasty-client",
   "metadata": {},
   "source": [
    "5. Conclusiones / Análisis"
   ]
  },
  {
   "cell_type": "code",
   "execution_count": null,
   "id": "special-dakota",
   "metadata": {},
   "outputs": [],
   "source": []
  }
 ],
 "metadata": {
  "kernelspec": {
   "display_name": "Python 3",
   "language": "python",
   "name": "python3"
  },
  "language_info": {
   "codemirror_mode": {
    "name": "ipython",
    "version": 3
   },
   "file_extension": ".py",
   "mimetype": "text/x-python",
   "name": "python",
   "nbconvert_exporter": "python",
   "pygments_lexer": "ipython3",
   "version": "3.9.2"
  }
 },
 "nbformat": 4,
 "nbformat_minor": 5
}
