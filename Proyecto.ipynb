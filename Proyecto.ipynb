{
 "cells": [
  {
   "cell_type": "markdown",
   "id": "individual-mistress",
   "metadata": {},
   "source": [
    "# Ecuación de Beattie-Bridgeman"
   ]
  },
  {
   "cell_type": "markdown",
   "id": "horizontal-active",
   "metadata": {},
   "source": [
    "1. Concepto"
   ]
  },
  {
   "cell_type": "markdown",
   "id": "extended-webster",
   "metadata": {},
   "source": [
    "A traves de los años se han propuesto diversas ecuaciones para explicar los datos $pVT$ observados para gases, siendo la ecuación de van der Waals una de ellas. Sin embargo, la ecuación de Beattie-Bridgeman es de las más apropiadas para trabajos de precisión. Esta ecuación comprende cinco constantes además de $R$: $A_o$, $a$, $B_o$, $b$ y $c$. Estos valores son obtenidos experimentalmente y pueden ser consultados para algunos gases. La ecuación en su forma virial es:"
   ]
  },
  {
   "cell_type": "markdown",
   "id": "fifth-brass",
   "metadata": {},
   "source": [
    "$p = \\frac{RT}{V} + \\frac{\\beta}{V^2} + \\frac{\\gamma}{V^3} + \\frac{\\delta}{V^4}$ (1)"
   ]
  },
  {
   "cell_type": "markdown",
   "id": "73019f64-3235-4a36-9fb2-158dca45db94",
   "metadata": {},
   "source": [
    "Los términos 2, 3 y 4 en el lado derecho de la ecuación (1) puede visualizarse como correcciones a la Ley de los Gases Ideales,"
   ]
  },
  {
   "cell_type": "markdown",
   "id": "c0f2a9e9-5753-478c-88ae-e4e1fb33ac8d",
   "metadata": {},
   "source": [
    "$p = \\frac{RT}{V}$ (2)"
   ]
  },
  {
   "cell_type": "markdown",
   "id": "thorough-diploma",
   "metadata": {},
   "source": [
    "atribuibles al comportamiento no-ideal.\n",
    "Los parametros $\\beta$, $\\gamma$ y $\\delta$ se definen como:"
   ]
  },
  {
   "cell_type": "markdown",
   "id": "5b2ac9c8-3781-40c6-b1f1-834230f245a6",
   "metadata": {},
   "source": [
    "$\\beta = RTb_0 - a_0 - \\frac{Rc}{T^2}$ (3)"
   ]
  },
  {
   "cell_type": "markdown",
   "id": "ea626d1d-0dfa-4fd5-9fc0-f050bfbcebc4",
   "metadata": {},
   "source": [
    "$\\gamma = - RTb_0b + a_0a - \\frac{Rcb_0}{T^2}$ (4)"
   ]
  },
  {
   "cell_type": "markdown",
   "id": "d7df3211-a7a3-4af1-8875-9a35bcfb5e16",
   "metadata": {},
   "source": [
    "$\\delta = \\frac{Rb_0bc}{T^2}$ (5)"
   ]
  },
  {
   "cell_type": "markdown",
   "id": "e870100a-6313-435b-8f29-284ea7da9b46",
   "metadata": {},
   "source": [
    "La ecuación (1) es explícita en la presión p, pero implícita en la temperatura T y el volumen V. Por consiguiente, se requiere de un método iterativo para encontrar el volumen que corresponde a valores dados de presión y temperatura."
   ]
  },
  {
   "cell_type": "markdown",
   "id": "cleared-pursuit",
   "metadata": {},
   "source": [
    "2. Propuesta"
   ]
  },
  {
   "cell_type": "markdown",
   "id": "28f14b5b-405f-4cd7-963a-3135f410e714",
   "metadata": {},
   "source": [
    "Después de calcular V, se puede obtener el factor de compresibilidad z, donde:"
   ]
  },
  {
   "cell_type": "markdown",
   "id": "16818c31-ca32-441b-99c9-da51b908e445",
   "metadata": {},
   "source": [
    "$z = \\frac{pV}{RT}$ (6)"
   ]
  },
  {
   "cell_type": "markdown",
   "id": "3ee346cd-68a7-4cc8-ad8d-f9dc2f65de2a",
   "metadata": {},
   "source": [
    "El factor de compresibilidad es un índice útil del comportamiento de un gas ideal, siendo $z=1$ para un gas ideal. Para este proyecto, se calculará el factor de compresibilidad del metano."
   ]
  },
  {
   "cell_type": "markdown",
   "id": "cosmetic-charge",
   "metadata": {},
   "source": [
    "3. Implementación"
   ]
  },
  {
   "cell_type": "markdown",
   "id": "eca2a7a2-7963-4c59-a505-53bf14b870a2",
   "metadata": {},
   "source": [
    "Se puede reescribir la ecuación (1) en la forma:"
   ]
  },
  {
   "cell_type": "markdown",
   "id": "47abeaf8-7146-47c7-a1ac-74b9be1101e0",
   "metadata": {},
   "source": [
    "$f(V) = \\frac{RT}{V} + \\frac{\\beta}{V^2} + \\frac{\\gamma}{V^3} + \\frac{\\delta}{V^4} - p = 0$"
   ]
  },
  {
   "cell_type": "markdown",
   "id": "fae94054-02b3-4074-906f-428b81744f94",
   "metadata": {},
   "source": [
    "Se utilizarán unidades de atmósferas para p, litros/g mol para V y °K para T, la constante de los gases $R = 0.08205$ litros atm / °K g mol. Para este conjunto de unidades, las constantes apropiadas para el metano son:"
   ]
  },
  {
   "cell_type": "code",
   "execution_count": 52,
   "id": "5e9188e1-0472-4b4f-841a-10c9a711c20e",
   "metadata": {},
   "outputs": [],
   "source": [
    "a0 = 2.2769\n",
    "b0 = 0.05587\n",
    "a = 0.01855\n",
    "b = -0.01587\n",
    "c = 128300"
   ]
  },
  {
   "cell_type": "markdown",
   "id": "9ae19ffe-3f78-418d-be2b-5fb1c2d05ee2",
   "metadata": {},
   "source": [
    "El método que se va a emplear es el de Newton-Raphson, por lo que se necesitará una primera aproximación. Esta será dada por la propia Ley de los Gases Ideales:"
   ]
  },
  {
   "cell_type": "markdown",
   "id": "bdd214c0-a8bc-4357-b048-b361149e386c",
   "metadata": {},
   "source": [
    "$V_1 = \\frac{RT}{p}$"
   ]
  },
  {
   "cell_type": "markdown",
   "id": "09f1c5aa-a0e4-4ef7-bb83-0b733d8b44cb",
   "metadata": {},
   "source": [
    "Se obtendrán los valores para una temperatura de 200°C (473.15°K) y para una presión (en atmósferas) de 10."
   ]
  },
  {
   "cell_type": "code",
   "execution_count": 53,
   "id": "departmental-builder",
   "metadata": {},
   "outputs": [],
   "source": [
    "import numpy as np\n",
    "import sympy as sy\n",
    "import matplotlib.pyplot as plt\n",
    "import math as math"
   ]
  },
  {
   "cell_type": "code",
   "execution_count": 54,
   "id": "postal-lender",
   "metadata": {},
   "outputs": [],
   "source": [
    "def beta(R,T,a0,b0,c):\n",
    "    bet = R*T*b0 - a0 - ((R*c)/(T**2))\n",
    "    return bet"
   ]
  },
  {
   "cell_type": "code",
   "execution_count": 55,
   "id": "swiss-sharp",
   "metadata": {},
   "outputs": [],
   "source": [
    "def gamma(R,T,a0,b0,a,b,c):\n",
    "    gam = -R*T*b0*b + a0*a - ((R*c*b0)/(T**2))\n",
    "    return gam"
   ]
  },
  {
   "cell_type": "code",
   "execution_count": 56,
   "id": "eight-acrobat",
   "metadata": {},
   "outputs": [],
   "source": [
    "def delta(R,T,b0,b,c):\n",
    "    delt = (R*b0*b*c)/(T**2)\n",
    "    return delt"
   ]
  },
  {
   "cell_type": "code",
   "execution_count": 57,
   "id": "hundred-tonight",
   "metadata": {},
   "outputs": [],
   "source": [
    "def vol(V):\n",
    "    f = (R*T)/V + beta(R,T,a0,b0,c)/(V**2) + gamma(R,T,a0,b0,a,b,c)/(V**3) + delta(R,T,b0,b,c)/(V**4) - p\n",
    "    return f"
   ]
  },
  {
   "cell_type": "code",
   "execution_count": 58,
   "id": "crude-ethiopia",
   "metadata": {},
   "outputs": [],
   "source": [
    "def dvol(V):\n",
    "    df = -(R*T)/(V**2) - (2*beta(R,T,a0,b0,c))/(V**3) - (3*gamma(R,T,a0,b0,a,b,c))/(V**4) - (4*delta(R,T,b0,b,c))/(V**5)\n",
    "    return df"
   ]
  },
  {
   "cell_type": "code",
   "execution_count": 59,
   "id": "necessary-dealer",
   "metadata": {},
   "outputs": [],
   "source": [
    "R = 0.08205\n",
    "T = 473.15\n",
    "p = 10"
   ]
  },
  {
   "cell_type": "code",
   "execution_count": 60,
   "id": "fixed-priest",
   "metadata": {},
   "outputs": [],
   "source": [
    "def gn(V):\n",
    "    return V - (vol(V)/dvol(V))"
   ]
  },
  {
   "cell_type": "markdown",
   "id": "rising-lebanon",
   "metadata": {},
   "source": [
    "4. Resultados"
   ]
  },
  {
   "cell_type": "markdown",
   "id": "c899e231-cd7f-4bc1-a670-7fbb5c58f6e9",
   "metadata": {},
   "source": [
    "Obteniendo el volumen:"
   ]
  },
  {
   "cell_type": "code",
   "execution_count": 61,
   "id": "3ca58f1c-4c6d-4f9c-a2bd-cd820e7061e5",
   "metadata": {},
   "outputs": [
    {
     "name": "stdout",
     "output_type": "stream",
     "text": [
      "3.8821957499999997\n",
      "3.8786899634619267\n",
      "3.878693124423494\n",
      "3.87869312442607\n",
      "3.878693124426069\n"
     ]
    }
   ],
   "source": [
    "V=R*T/p\n",
    "print(V)\n",
    "while V!=gn(V):\n",
    "    V=gn(V)\n",
    "    print(V)"
   ]
  },
  {
   "cell_type": "markdown",
   "id": "8aa7f1d8-eac0-4259-aeea-686988224f7c",
   "metadata": {},
   "source": [
    "Obteniendo el error en cada iteración:"
   ]
  },
  {
   "cell_type": "code",
   "execution_count": 62,
   "id": "e698ff23-28b7-4dae-8cdf-07d3f9e9f8c4",
   "metadata": {},
   "outputs": [
    {
     "name": "stdout",
     "output_type": "stream",
     "text": [
      "0.003505786538072986\n",
      "3.16096156716128e-06\n",
      "2.5761615063402132e-12\n",
      "8.881784197001252e-16\n"
     ]
    }
   ],
   "source": [
    "V=R*T/p\n",
    "while V!=gn(V):\n",
    "    err=math.fabs(gn(V)-V)\n",
    "    print(err)\n",
    "    V=gn(V)"
   ]
  },
  {
   "cell_type": "markdown",
   "id": "4d519c19-9517-47f6-a4b2-8d00f42086de",
   "metadata": {},
   "source": [
    "Calculando el factor de compresibilidad:"
   ]
  },
  {
   "cell_type": "code",
   "execution_count": 63,
   "id": "8681d78c-f5a2-4ef1-b9a6-9b5fb00e88b3",
   "metadata": {
    "scrolled": true
   },
   "outputs": [
    {
     "name": "stdout",
     "output_type": "stream",
     "text": [
      "0.9990977720343106\n"
     ]
    }
   ],
   "source": [
    "z = (p*V)/(R*T)\n",
    "print(z)"
   ]
  },
  {
   "cell_type": "code",
   "execution_count": 69,
   "id": "3cfdbbf7-1400-4dd8-9f1c-e32fc22ff3fd",
   "metadata": {},
   "outputs": [
    {
     "data": {
      "image/png": "[encoded data removed]",
      "text/plain": [
       "<Figure size 640x480 with 1 Axes>"
      ]
     },
     "metadata": {},
     "output_type": "display_data"
    }
   ],
   "source": [
    "x=np.linspace(1,5)\n",
    "f=[vol(b) for b in x]\n",
    "df=[dvol(b) for b in x]\n",
    "g=[gn(b) for b in x]\n",
    "plt.plot(x,f)\n",
    "plt.plot(x,df)\n",
    "plt.plot(x,g)\n",
    "plt.legend(['f','df','g'])\n",
    "plt.show()"
   ]
  },
  {
   "cell_type": "markdown",
   "id": "nasty-client",
   "metadata": {},
   "source": [
    "5. Conclusiones / Análisis"
   ]
  },
  {
   "cell_type": "markdown",
   "id": "8dd3bbe9-a83c-4061-bbba-66d91a131876",
   "metadata": {},
   "source": [
    "Los errores de esta prueba son pequeños, por lo que en cada iteración el valor obtenido se aproxima cada vez mas al valor real. El factor de compresibilidad del metano esta cerca de 1, sin embargo, esto lo hace un gas no ideal. Como este factor tambien depende de la presión y la temperatura, es posible hacer una tabla con ciertos valores comunes en la industria."
   ]
  }
 ],
 "metadata": {
  "kernelspec": {
   "display_name": "Python 3 (ipykernel)",
   "language": "python",
   "name": "python3"
  },
  "language_info": {
   "codemirror_mode": {
    "name": "ipython",
    "version": 3
   },
   "file_extension": ".py",
   "mimetype": "text/x-python",
   "name": "python",
   "nbconvert_exporter": "python",
   "pygments_lexer": "ipython3",
   "version": "3.11.5"
  }
 },
 "nbformat": 4,
 "nbformat_minor": 5
}
