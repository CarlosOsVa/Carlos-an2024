{
 "cells": [
  {
   "cell_type": "markdown",
   "id": "individual-mistress",
   "metadata": {},
   "source": [
    "# Proyecto"
   ]
  },
  {
   "cell_type": "markdown",
   "id": "horizontal-active",
   "metadata": {},
   "source": [
    "1. Concepto"
   ]
  },
  {
   "cell_type": "markdown",
   "id": "maritime-cloud",
   "metadata": {},
   "source": [
    "Ecuación de Beattie-Bridgemann"
   ]
  },
  {
   "cell_type": "markdown",
   "id": "extended-webster",
   "metadata": {},
   "source": [
    "A traves de los años se han propuesto diversas ecuaciones para explicar los datos $pVT$ observados para gases, siendo la ecuación de van der Waals una de ellas. Sin embargo, la ecuación de Beattie-Bridgemann es de las más apropiadas para trabajos de precisión. Esta ecuación comprende cinco constantes además de $R$: $A_o$, $a$, $B_o$, $b$ y $c$. Estos valores son obtenidos experimentalmente y pueden ser consultados para alguno gases. La ecuación en su forma virial es:"
   ]
  },
  {
   "cell_type": "markdown",
   "id": "fifth-brass",
   "metadata": {},
   "source": [
    "$pV = RT + \\frac{\\beta}{V} + \\frac{\\gamma}{V^2} + \\frac{\\delta}{V^3}$"
   ]
  },
  {
   "cell_type": "markdown",
   "id": "thorough-diploma",
   "metadata": {},
   "source": [
    "Que puede ser expresada como:"
   ]
  },
  {
   "cell_type": "markdown",
   "id": "taken-flash",
   "metadata": {},
   "source": [
    "$V = (RT + \\frac{\\beta}{V} + \\frac{\\gamma}{V^2} + \\frac{delta}{V^3})\\frac$"
   ]
  },
  {
   "cell_type": "markdown",
   "id": "cleared-pursuit",
   "metadata": {},
   "source": [
    "2. Propuesta"
   ]
  },
  {
   "cell_type": "markdown",
   "id": "cosmetic-charge",
   "metadata": {},
   "source": [
    "3. Implementación"
   ]
  },
  {
   "cell_type": "markdown",
   "id": "rising-lebanon",
   "metadata": {},
   "source": [
    "4. Resultados"
   ]
  },
  {
   "cell_type": "markdown",
   "id": "nasty-client",
   "metadata": {},
   "source": [
    "5. Conclusiones / Análisis"
   ]
  },
  {
   "cell_type": "code",
   "execution_count": null,
   "id": "special-dakota",
   "metadata": {},
   "outputs": [],
   "source": []
  }
 ],
 "metadata": {
  "kernelspec": {
   "display_name": "Python 3",
   "language": "python",
   "name": "python3"
  },
  "language_info": {
   "codemirror_mode": {
    "name": "ipython",
    "version": 3
   },
   "file_extension": ".py",
   "mimetype": "text/x-python",
   "name": "python",
   "nbconvert_exporter": "python",
   "pygments_lexer": "ipython3",
   "version": "3.9.2"
  }
 },
 "nbformat": 4,
 "nbformat_minor": 5
}
