{
 "cells": [
  {
   "cell_type": "markdown",
   "id": "artistic-stretch",
   "metadata": {},
   "source": [
    "# Lunes 26 de Febrero 2024"
   ]
  },
  {
   "cell_type": "markdown",
   "id": "reflected-control",
   "metadata": {},
   "source": [
    "Nota para proyecto:\n",
    "1. Concepto\n",
    "2. Propuesta\n",
    "3. Implementación\n",
    "4. Resultados\n",
    "5. Conclusiones / Análisis"
   ]
  },
  {
   "cell_type": "code",
   "execution_count": 2,
   "id": "twelve-communist",
   "metadata": {},
   "outputs": [],
   "source": [
    "import numpy as np\n",
    "import sympy as sp\n",
    "import matplotlib.pyplot as plt\n",
    "import numpy.random as rd"
   ]
  },
  {
   "cell_type": "code",
   "execution_count": 18,
   "id": "twenty-morocco",
   "metadata": {},
   "outputs": [
    {
     "name": "stdout",
     "output_type": "stream",
     "text": [
      "[[1. 4. 8.]\n",
      " [7. 6. 8.]\n",
      " [8. 4. 1.]]\n",
      "[0.69644915 0.18750564 0.03022434]\n",
      "1.0\n"
     ]
    }
   ],
   "source": [
    "A = 2*np.random.randint(9,size=(3,3))/2\n",
    "F = np.random.rand(3)\n",
    "print(A)\n",
    "print(F)\n",
    "print(A[0,0])"
   ]
  },
  {
   "cell_type": "code",
   "execution_count": 19,
   "id": "mobile-somalia",
   "metadata": {},
   "outputs": [],
   "source": [
    "def gauss(A,F):\n",
    "    U=np.copy(A)\n",
    "    G=np.copy(F)\n",
    "    n=F.size\n",
    "    for j in range(n-1):\n",
    "        for i in range(j+1,n):\n",
    "            m=U[i,j]/U[j,j]\n",
    "            U[i,j:]=U[i,j:]-m*U[j,j:]\n",
    "            G[i]=G[i]-m*G[j]\n",
    "            print(U)\n",
    "        return U,G"
   ]
  },
  {
   "cell_type": "code",
   "execution_count": 20,
   "id": "comprehensive-engagement",
   "metadata": {},
   "outputs": [
    {
     "name": "stdout",
     "output_type": "stream",
     "text": [
      "[[  1.   4.   8.]\n",
      " [  0. -22. -48.]\n",
      " [  8.   4.   1.]]\n",
      "[[  1.   4.   8.]\n",
      " [  0. -22. -48.]\n",
      " [  0. -28. -63.]]\n"
     ]
    },
    {
     "data": {
      "text/plain": [
       "(array([[  1.,   4.,   8.],\n",
       "        [  0., -22., -48.],\n",
       "        [  0., -28., -63.]]),\n",
       " array([ 0.69644915, -4.68763838, -5.54136882]))"
      ]
     },
     "execution_count": 20,
     "metadata": {},
     "output_type": "execute_result"
    }
   ],
   "source": [
    "gauss(A,F)"
   ]
  },
  {
   "cell_type": "markdown",
   "id": "extra-coach",
   "metadata": {},
   "source": [
    "# Martes 27 de Febrero 2024"
   ]
  },
  {
   "cell_type": "code",
   "execution_count": 1,
   "id": "crazy-stranger",
   "metadata": {},
   "outputs": [],
   "source": [
    "import numpy as np\n",
    "import sympy as sy\n",
    "import matplotlib.pyplot as plt"
   ]
  },
  {
   "cell_type": "code",
   "execution_count": 6,
   "id": "lyric-benefit",
   "metadata": {},
   "outputs": [],
   "source": [
    "def forwsub(L,G):\n",
    "    n=G.size\n",
    "    x=np.zeros(n)\n",
    "    for i in range(n-1):\n",
    "        x[i]=G[i]/L[i,i]-1/L[i,i]*np.dot(L[i,i-1:],x[i-1:])\n",
    "    return(x)"
   ]
  },
  {
   "cell_type": "code",
   "execution_count": 7,
   "id": "transparent-visit",
   "metadata": {},
   "outputs": [],
   "source": [
    "def sumu(U,x):\n",
    "    n=G.size\n",
    "    x=np.zeros(n)\n",
    "    for i in reversed(range(n)):\n",
    "        x[i]=G[i]/U[i,i]-1/U[i,i]*np.dot(U[i,i+1:],x[i+1:])\n",
    "    return x"
   ]
  },
  {
   "cell_type": "code",
   "execution_count": 21,
   "id": "animal-commonwealth",
   "metadata": {},
   "outputs": [],
   "source": [
    "def gauss(A,F):\n",
    "    U=np.copy(A)\n",
    "    G=np.copy(F)\n",
    "    n=F.size\n",
    "    for j in range(n-1):\n",
    "        for i in range(j+1,n):\n",
    "            m=U[i,j]/U[j,j]\n",
    "            U[i,j:]=U[i,j:]-m*U[j,j:]\n",
    "            G[i]=G[i]-m*G[j]\n",
    "            print(U)\n",
    "        return U,G"
   ]
  },
  {
   "cell_type": "code",
   "execution_count": 25,
   "id": "right-visiting",
   "metadata": {},
   "outputs": [
    {
     "name": "stdout",
     "output_type": "stream",
     "text": [
      "[[5. 3. 4.]\n",
      " [8. 8. 6.]\n",
      " [3. 4. 8.]]\n",
      "[0.99922014 0.36847489 0.59910269]\n"
     ]
    }
   ],
   "source": [
    "A = 2*np.random.randint(9,size=(3,3))/2\n",
    "F = np.random.rand(3)\n",
    "print(A)\n",
    "print(F)"
   ]
  },
  {
   "cell_type": "code",
   "execution_count": 26,
   "id": "artificial-receptor",
   "metadata": {},
   "outputs": [
    {
     "name": "stdout",
     "output_type": "stream",
     "text": [
      "[[ 5.   3.   4. ]\n",
      " [ 0.   3.2 -0.4]\n",
      " [ 3.   4.   8. ]]\n",
      "[[ 5.   3.   4. ]\n",
      " [ 0.   3.2 -0.4]\n",
      " [ 0.   2.2  5.6]]\n"
     ]
    },
    {
     "data": {
      "text/plain": [
       "(array([[ 5. ,  3. ,  4. ],\n",
       "        [ 0. ,  3.2, -0.4],\n",
       "        [ 0. ,  2.2,  5.6]]),\n",
       " array([ 9.99220141e-01, -1.23027733e+00, -4.29395732e-04]))"
      ]
     },
     "execution_count": 26,
     "metadata": {},
     "output_type": "execute_result"
    }
   ],
   "source": [
    "U=gauss(A,F)\n",
    "U"
   ]
  },
  {
   "cell_type": "code",
   "execution_count": null,
   "id": "temporal-massachusetts",
   "metadata": {},
   "outputs": [],
   "source": []
  }
 ],
 "metadata": {
  "kernelspec": {
   "display_name": "Python 3",
   "language": "python",
   "name": "python3"
  },
  "language_info": {
   "codemirror_mode": {
    "name": "ipython",
    "version": 3
   },
   "file_extension": ".py",
   "mimetype": "text/x-python",
   "name": "python",
   "nbconvert_exporter": "python",
   "pygments_lexer": "ipython3",
   "version": "3.9.2"
  }
 },
 "nbformat": 4,
 "nbformat_minor": 5
}
