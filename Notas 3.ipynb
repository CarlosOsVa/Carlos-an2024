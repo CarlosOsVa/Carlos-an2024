{
 "cells": [
  {
   "cell_type": "markdown",
   "id": "artistic-stretch",
   "metadata": {},
   "source": [
    "# Lunes 26 de Febrero 2024"
   ]
  },
  {
   "cell_type": "markdown",
   "id": "reflected-control",
   "metadata": {},
   "source": [
    "Nota para proyecto:\n",
    "1. Concepto\n",
    "2. Propuesta\n",
    "3. Implementación\n",
    "4. Resultados\n",
    "5. Conclusiones / Análisis"
   ]
  },
  {
   "cell_type": "code",
   "execution_count": 1,
   "id": "twelve-communist",
   "metadata": {},
   "outputs": [],
   "source": [
    "import numpy as np\n",
    "import sympy as sp\n",
    "import matplotlib.pyplot as plt\n",
    "import numpy.random as rd"
   ]
  },
  {
   "cell_type": "code",
   "execution_count": 15,
   "id": "twenty-morocco",
   "metadata": {},
   "outputs": [
    {
     "name": "stdout",
     "output_type": "stream",
     "text": [
      "[[8. 7. 6.]\n",
      " [3. 3. 8.]\n",
      " [7. 0. 8.]]\n",
      "[0.22675853 0.51497718 0.67787724]\n",
      "8.0\n"
     ]
    }
   ],
   "source": [
    "A = 2*np.random.randint(9,size=(3,3))/2\n",
    "F = np.random.rand(3)\n",
    "print(A)\n",
    "print(F)\n",
    "print(A[0,0])"
   ]
  },
  {
   "cell_type": "code",
   "execution_count": 24,
   "id": "mobile-somalia",
   "metadata": {},
   "outputs": [],
   "source": [
    "def gauss(A,F):\n",
    "    U=np.copy(A)\n",
    "    G=np.copy(F)\n",
    "    n=F.size\n",
    "    for j in range(n-1):\n",
    "        for i in range(j+1,n):\n",
    "            m=U[i,j]/U[j,j]\n",
    "            U[i,j:]=U[i,j:]-m*U[j,j:]\n",
    "            G[i]=G[i]-m*G[j]\n",
    "        return U,G"
   ]
  },
  {
   "cell_type": "code",
   "execution_count": 25,
   "id": "comprehensive-engagement",
   "metadata": {},
   "outputs": [
    {
     "data": {
      "text/plain": [
       "(array([[nan, nan,  6.],\n",
       "        [nan, nan, nan],\n",
       "        [nan, nan, nan]]),\n",
       " array([nan, nan, nan]))"
      ]
     },
     "execution_count": 25,
     "metadata": {},
     "output_type": "execute_result"
    }
   ],
   "source": [
    "gauss(A,F)"
   ]
  },
  {
   "cell_type": "code",
   "execution_count": null,
   "id": "aquatic-volume",
   "metadata": {},
   "outputs": [],
   "source": []
  }
 ],
 "metadata": {
  "kernelspec": {
   "display_name": "Python 3",
   "language": "python",
   "name": "python3"
  },
  "language_info": {
   "codemirror_mode": {
    "name": "ipython",
    "version": 3
   },
   "file_extension": ".py",
   "mimetype": "text/x-python",
   "name": "python",
   "nbconvert_exporter": "python",
   "pygments_lexer": "ipython3",
   "version": "3.9.2"
  }
 },
 "nbformat": 4,
 "nbformat_minor": 5
}
