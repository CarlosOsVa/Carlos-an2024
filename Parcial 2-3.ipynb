{
 "cells": [
  {
   "cell_type": "markdown",
   "id": "hispanic-hampshire",
   "metadata": {},
   "source": [
    "# Martes 2 de Abril 2024\n",
    "\n",
    "## Diferenciación automática\n",
    "\n",
    "Sea $x$ un número dual: $x = a + a'd$\n",
    "\n",
    "$P(a) = c_0 + c_1 a + c_2 a² + ... + c_{n-1} a^{n-1}$\n",
    "\n",
    "Regla de la cadena\n",
    "\n",
    "$g(x) = g(a) + g'(a)a'd$\n",
    "\n",
    "Ejemplo\n",
    "\n",
    "$cos(x) = cos(a) - sin(a)a'd$\n",
    "\n",
    "$P(x) = P(a) + P'(a)a'd$\n",
    "\n",
    "Ejercicio\n",
    "\n",
    "$g(x) = e^{sin 2x}$ en $x = 0.5$\n",
    "\n",
    "¿Cuál es la derivada en este punto?"
   ]
  },
  {
   "cell_type": "code",
   "execution_count": 4,
   "id": "lovely-atlas",
   "metadata": {},
   "outputs": [
    {
     "data": {
      "text/plain": [
       "[2.319776824715853, 2.506761534986894]"
      ]
     },
     "execution_count": 4,
     "metadata": {},
     "output_type": "execute_result"
    }
   ],
   "source": [
    "import numpy as np\n",
    "\n",
    "def sing(z):\n",
    "    return [np.sin(z[0]),z[1]*np.cos(z[0])]\n",
    "\n",
    "def eg(z):\n",
    "    return [np.exp(z[0]),z[1]*np.exp(z[0])]\n",
    "\n",
    "def fg(z):\n",
    "    Z=np.array([z,1])\n",
    "    return eg(sing(2*Z))\n",
    "\n",
    "fg(0.5)"
   ]
  },
  {
   "cell_type": "markdown",
   "id": "better-spank",
   "metadata": {},
   "source": [
    "# Jueves 4 de Abril 2024\n",
    "\n",
    "## integración numérica\n",
    "\n",
    "Razones para integrar numéricamente:\n",
    "\n",
    "1- Un integrando elemental no garantiza una integral elemental (indefinida).\n",
    "\n",
    "2- Puede ser que no tengamos $f(x)$ sino una tabla de valores [$x_i$,$f(x_i)$].\n",
    "\n",
    "3- Puede ser que la evaluación de la antiderivada sea impráctica.\n",
    "\n",
    "$nint(f(x),a,b,h): \\sum_{i=0}^{N-1}f(x_i)c_i$\n",
    "\n",
    "Abiertos:\n",
    "\n",
    "a y b no son abcisas nodales. Gauss, punto medio\n",
    "\n",
    "Cerrados:\n",
    "\n",
    "a y b son abcisas nodales. Simpson y trapecio\n",
    "\n",
    "Newton-Cotes: Sumando rectangulos o formas geométricas simples - rejilla equidistante.\n",
    "\n",
    "Cuadratura gaussiana: Espaciamientos irregulares.\n",
    "\n",
    "$x_i = a + ih$\n",
    "\n",
    "$(N-1)h + a = b$\n",
    "\n",
    "$N - 1 = \\frac{b - a}{h}$\n",
    "\n",
    "$h = \\frac{b - a}{N - 1}$\n",
    "\n",
    "$h$[$f(a) + f(a + h) + f(a + 2h) + f(a + 3h)$]\n",
    "\n",
    "Regla del rectángulo\n",
    "\n",
    "$h$[$\\frac{f(a + b) + f(a)}{2} + \\frac{f(a + 2h) + f(a + b)}{2} + \\frac{f(a + 3h) + f(a + 2h)}{2} + \\frac{f(b) + f(a + 3h)}{2}$]$=h$[$\\frac{f(a) + f(b)}{2} + f(a + h) + f(a + 2h) + f(a + 3h)$]"
   ]
  },
  {
   "cell_type": "code",
   "execution_count": null,
   "id": "dietary-underwear",
   "metadata": {},
   "outputs": [],
   "source": []
  }
 ],
 "metadata": {
  "kernelspec": {
   "display_name": "Python 3",
   "language": "python",
   "name": "python3"
  },
  "language_info": {
   "codemirror_mode": {
    "name": "ipython",
    "version": 3
   },
   "file_extension": ".py",
   "mimetype": "text/x-python",
   "name": "python",
   "nbconvert_exporter": "python",
   "pygments_lexer": "ipython3",
   "version": "3.9.2"
  }
 },
 "nbformat": 4,
 "nbformat_minor": 5
}
