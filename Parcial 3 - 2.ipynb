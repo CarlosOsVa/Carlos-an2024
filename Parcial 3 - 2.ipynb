{
 "cells": [
  {
   "cell_type": "code",
   "execution_count": 4,
   "id": "liked-relevance",
   "metadata": {},
   "outputs": [
    {
     "name": "stdout",
     "output_type": "stream",
     "text": [
      "[3.04593186 0.5189044 ]\n",
      "[0.02927752 0.04896135]\n",
      "1.0991681955435215\n"
     ]
    }
   ],
   "source": [
    "import numpy as np\n",
    "import matplotlib.pyplot as plt\n",
    "\n",
    "def helpers(dataxs,datays,datasigs):\n",
    "    S = np.sum(1/datasigs**2)\n",
    "    Sx = np.sum(dataxs/datasigs**2)\n",
    "    Sy = np.sum(datays/datasigs**2)\n",
    "    Sxx = np.sum(dataxs**2/datasigs**2)\n",
    "    Sxy = np.sum(dataxs*datays/datasigs**2)\n",
    "    Del = S*Sxx - Sx**2\n",
    "    return S, Sx, Sy, Sxx, Sxy, Del\n",
    "\n",
    "def computecs(dataxs,datays,datasigs):\n",
    "    S,Sx,Sy,Sxx,Sxy,Del = helpers(dataxs,datays,datasigs)\n",
    "    cs = np.zeros(2); dcs = np.zeros(2)\n",
    "    cs[0] = (Sxx*Sy - Sx*Sxy)/Del\n",
    "    cs[1] = (S*Sxy - Sx*Sy)/Del\n",
    "    dcs[0] = np.sqrt(Sxx/Del)\n",
    "    dcs[1] = np.sqrt(S/Del)\n",
    "    return cs, dcs\n",
    "\n",
    "def computechisq(dataxs,datays,datasigs,cs):\n",
    "    chisq = np.sum((datays-cs[0]-cs[1]*dataxs)**2/datasigs**2)\n",
    "    return chisq\n",
    "\n",
    "dataxs = np.linspace(0,1,6)\n",
    "datays = np.array([3.085, 3.123, 3.224, 3.360, 3.438, 3.569])\n",
    "datasigs = np.array([0.048, 0.053, 0.02, 0.005, 0.023, 0.07])\n",
    "cs, dcs = computecs(dataxs, datays, datasigs)\n",
    "print(cs); print(dcs)\n",
    "chisq = computechisq(dataxs, datays, datasigs, cs)\n",
    "print(chisq/(dataxs.size - cs.size))"
   ]
  },
  {
   "cell_type": "code",
   "execution_count": 6,
   "id": "secondary-poison",
   "metadata": {},
   "outputs": [
    {
     "data": {
      "image/png": "[encoded data removed]",
      "text/plain": [
       "<Figure size 432x288 with 1 Axes>"
      ]
     },
     "metadata": {
      "needs_background": "light"
     },
     "output_type": "display_data"
    }
   ],
   "source": [
    "plt.plot(dataxs,datays)\n",
    "plt.show()"
   ]
  }
 ],
 "metadata": {
  "kernelspec": {
   "display_name": "Python 3",
   "language": "python",
   "name": "python3"
  },
  "language_info": {
   "codemirror_mode": {
    "name": "ipython",
    "version": 3
   },
   "file_extension": ".py",
   "mimetype": "text/x-python",
   "name": "python",
   "nbconvert_exporter": "python",
   "pygments_lexer": "ipython3",
   "version": "3.9.2"
  }
 },
 "nbformat": 4,
 "nbformat_minor": 5
}
