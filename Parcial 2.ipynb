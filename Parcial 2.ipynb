{
 "cells": [
  {
   "cell_type": "markdown",
   "id": "religious-coordinator",
   "metadata": {},
   "source": [
    "# Lunes 11 Marzo 2024"
   ]
  },
  {
   "cell_type": "markdown",
   "id": "cooperative-solution",
   "metadata": {},
   "source": [
    "Ejercicio: Factorizar una matriz, obteniendo la matriz triangular inferior y la matriz triangular superior"
   ]
  },
  {
   "cell_type": "code",
   "execution_count": 2,
   "id": "impressive-google",
   "metadata": {},
   "outputs": [],
   "source": [
    "import numpy as np\n",
    "import sympy as sy\n",
    "import numpy.random as rd"
   ]
  },
  {
   "cell_type": "code",
   "execution_count": 3,
   "id": "functional-cursor",
   "metadata": {},
   "outputs": [
    {
     "name": "stdout",
     "output_type": "stream",
     "text": [
      "[[1. 1. 6.]\n",
      " [7. 7. 4.]\n",
      " [3. 6. 2.]]\n"
     ]
    }
   ],
   "source": [
    "A = 2*np.random.randint(9,size=(3,3))/2\n",
    "print(A)"
   ]
  },
  {
   "cell_type": "code",
   "execution_count": null,
   "id": "absolute-accountability",
   "metadata": {},
   "outputs": [],
   "source": [
    "def doo(A,n):\n",
    "    low=[[0 for x in range(n)]for y in range(n)]\n",
    "    up =[[0 for x in range(n)]for y in range(n)]\n",
    "    for i in range(n):\n",
    "        for k in range(i,n):\n",
    "            sum = 0\n",
    "            for j in range(i):\n",
    "                sum += (low[i][j]*up[j][k])\n",
    "            up[i][k]=A[i][k]-sum\n",
    "        for k in range(i,n):\n",
    "            if(i==k):\n",
    "                low[i][i]=1\n",
    "            else:\n",
    "                sum = 0\n",
    "                for j in range(i):\n",
    "                    sum += (low[k][j]*up[j][i])\n",
    "                low[k][i]=int((mat[k][i]-sum)/up[i][i])"
   ]
  }
 ],
 "metadata": {
  "kernelspec": {
   "display_name": "Python 3",
   "language": "python",
   "name": "python3"
  },
  "language_info": {
   "codemirror_mode": {
    "name": "ipython",
    "version": 3
   },
   "file_extension": ".py",
   "mimetype": "text/x-python",
   "name": "python",
   "nbconvert_exporter": "python",
   "pygments_lexer": "ipython3",
   "version": "3.9.2"
  }
 },
 "nbformat": 4,
 "nbformat_minor": 5
}
