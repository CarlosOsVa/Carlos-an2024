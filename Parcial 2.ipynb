{
 "cells": [
  {
   "cell_type": "markdown",
   "id": "religious-coordinator",
   "metadata": {},
   "source": [
    "# Lunes 11 Marzo 2024"
   ]
  },
  {
   "cell_type": "markdown",
   "id": "cooperative-solution",
   "metadata": {},
   "source": [
    "Ejercicio: Factorizar una matriz, obteniendo la matriz triangular inferior y la matriz triangular superior"
   ]
  },
  {
   "cell_type": "code",
   "execution_count": 8,
   "id": "impressive-google",
   "metadata": {},
   "outputs": [],
   "source": [
    "import numpy as np\n",
    "import sympy as sy\n",
    "import numpy.random as rd"
   ]
  },
  {
   "cell_type": "code",
   "execution_count": 9,
   "id": "absolute-accountability",
   "metadata": {},
   "outputs": [
    {
     "name": "stdout",
     "output_type": "stream",
     "text": [
      "Triangular inf\t\tTriangular sup\n",
      "1\t0\t0\t\t2\t-1\t-2\t\n",
      "-2\t1\t0\t\t0\t4\t-1\t\n",
      "-2\t-1\t1\t\t0\t0\t3\t\n"
     ]
    }
   ],
   "source": [
    "def doo(A,n):\n",
    "    low=[[0 for x in range(n)]for y in range(n)]\n",
    "    up =[[0 for x in range(n)]for y in range(n)]\n",
    "    for i in range(n):\n",
    "        for k in range(i,n):\n",
    "            sum = 0\n",
    "            for j in range(i):\n",
    "                sum += (low[i][j]*up[j][k])\n",
    "            up[i][k]=A[i][k]-sum\n",
    "        for k in range(i,n):\n",
    "            if(i==k):\n",
    "                low[i][i]=1\n",
    "            else:\n",
    "                sum = 0\n",
    "                for j in range(i):\n",
    "                    sum += (low[k][j]*up[j][i])\n",
    "                low[k][i]=int((A[k][i]-sum)/up[i][i])\n",
    "    print(\"Triangular inf\\t\\tTriangular sup\")\n",
    "    for i in range(n):\n",
    "        for j in range(n):\n",
    "            print(low[i][j], end=\"\\t\")\n",
    "        print(\"\", end=\"\\t\")\n",
    "        for j in range(n):\n",
    "            print(up[i][j], end=\"\\t\")\n",
    "        print(\"\")\n",
    "        \n",
    "A = [[2, -1, -2],\n",
    "     [-4, 6, 3],\n",
    "     [-4, -2, 8]]\n",
    "            \n",
    "doo(A,3)"
   ]
  },
  {
   "cell_type": "markdown",
   "id": "provincial-woman",
   "metadata": {},
   "source": [
    "# Dia de $\\pi$"
   ]
  },
  {
   "cell_type": "markdown",
   "id": "amazing-respect",
   "metadata": {},
   "source": [
    "$\\pi$ tiene una secuencia de 6 nueves en sus digitos. ¡Encontrarla!"
   ]
  },
  {
   "cell_type": "code",
   "execution_count": 26,
   "id": "moderate-values",
   "metadata": {},
   "outputs": [],
   "source": [
    "import numpy as np\n",
    "import sympy as sy\n",
    "import numpy.random as rd\n",
    "import mpmath as mp"
   ]
  },
  {
   "cell_type": "code",
   "execution_count": 78,
   "id": "burning-wages",
   "metadata": {},
   "outputs": [
    {
     "name": "stdout",
     "output_type": "stream",
     "text": [
      "3.1415926535897932095816896720853760862142814503607431190422897105864764205154359631849492090956344708518133998534015556947007862316804629157755988148042534988908462471080105774439905761397115819728594144488006398010046976012862531864267881191550391586194192782773024980821345971071221777888542813231550158028169125224187064501818414019036987312506394809534012187068476516390060644391834207564671955081857767031024273934796288572567117602001977519312762316206655456303951474317192977296064456792634319319832481402217387541984469914552761079091421135784911029128091091522016602418957761363409450819223458237304998086175632506960434313052628977064897356166524427082012629481341462131134176776262990648967752839672802186477209603834085463409295602584725917376242138071060814\n"
     ]
    }
   ],
   "source": [
    "mp.mp.dps=770\n",
    "def pibbp(n):\n",
    "    s=mp.mpf(0)\n",
    "    for i in range(0,n):\n",
    "        s += (1/mp.power(16,i))*((4/(8*i+1))-(2/(8*i+4))-(1/(8*i+5))-(1/(8*i+6)))\n",
    "    p=s\n",
    "    print(p)\n",
    "    \n",
    "pibbp(100000)"
   ]
  },
  {
   "cell_type": "code",
   "execution_count": 79,
   "id": "junior-pricing",
   "metadata": {},
   "outputs": [
    {
     "name": "stdout",
     "output_type": "stream",
     "text": [
      "3.1415831042309477029166557069683156901371332468906016621453442381091084665603761594402902213874800569118516434088643485297194694096359679288233948638974043148787309648610461827003058626315968089861897858666860673425220096873569894768054418230557850409358601063925777932012740809271501363674496963269853772189437808047265880116277452646964875856557480990352237973531512557466454440288572861258469271864768072522584564593494632087426869064319731543909044232493416778435661926630033271616107213915249497110673039482813745184752082285500732089847360629647630968262721114512436888669397390439112200308726305650063695316952971899115544731058831446313022675742262889622971660115800447007770804277943671860236646381154026331028836274115137524930106834137095701553184926083583699\n"
     ]
    }
   ],
   "source": [
    "def pieuler(n):\n",
    "    eu=mp.mpf(0)\n",
    "    for i in range(1,n):\n",
    "        eu += 1/mp.power(i,2)\n",
    "    p2=mp.sqrt(6*eu)\n",
    "    print(p2)\n",
    "    \n",
    "pieuler(100000)"
   ]
  },
  {
   "cell_type": "code",
   "execution_count": 80,
   "id": "exposed-slovakia",
   "metadata": {},
   "outputs": [
    {
     "data": {
      "text/plain": [
       "mpf('3.1415926535897932384626433832795028841971693993751058209749445923078164062862089986280348253421170679821480865132823066470938446095505822317253594081284811174502841027019385211055596446229489549303819644288109756659334461284756482337867831652712019091456485669234603486104543266482133936072602491412737245870066063155881748815209209628292540917153643678925903600113305305488204665213841469519415116094330572703657595919530921861173819326117931051185480744623799627495673518857527248912279381830119491298336733624406566430860213949463952247371907021798609437027705392171762931767523846748184676694051320005681271452635608277857713427577896091736371787214684409012249534301465495853710507922796892589235420199561121290219608640344181598136297747713099605187072113499999983746')"
      ]
     },
     "execution_count": 80,
     "metadata": {},
     "output_type": "execute_result"
    }
   ],
   "source": [
    "f = lambda x: mp.sqrt(1-mp.power(x,2))\n",
    "2*mp.quad(f,[-1,1])"
   ]
  },
  {
   "cell_type": "code",
   "execution_count": null,
   "id": "intended-version",
   "metadata": {},
   "outputs": [],
   "source": []
  }
 ],
 "metadata": {
  "kernelspec": {
   "display_name": "Python 3",
   "language": "python",
   "name": "python3"
  },
  "language_info": {
   "codemirror_mode": {
    "name": "ipython",
    "version": 3
   },
   "file_extension": ".py",
   "mimetype": "text/x-python",
   "name": "python",
   "nbconvert_exporter": "python",
   "pygments_lexer": "ipython3",
   "version": "3.9.2"
  }
 },
 "nbformat": 4,
 "nbformat_minor": 5
}
