{
 "cells": [
  {
   "cell_type": "markdown",
   "id": "downtown-portsmouth",
   "metadata": {},
   "source": [
    "# Dispersión clásica por potencial central\n",
    "\n",
    "En este proyecto, se investigará la dispersión clásica de una particula de masa $m$ por potencial central,  en particular, el potencial de Lenard-Jones. En un fenomeno de dispersión, la particula, con energía cinética inicial $E$ y un parametro de impacto $b$, se acerca al potencial desde una larga distancia. Esto s ve eflejado durante su paso por la fuerza central y eventualmente emerge con la misma energía, pero moviendose con cierto grado $\\theta$ con respecto a su dirección original. Como el potencial depende unicamente de la distancia de la particula desde la fuerza central, el momento angular se conserva y la trayectoria esta en un plano. Las coordenadas polares de una particula, ($r$,$\\theta$), son una forma conveniente de describir este movimiento."
   ]
  },
  {
   "cell_type": "markdown",
   "id": "revolutionary-therapy",
   "metadata": {},
   "source": [
    "Si el flujo de partículas $I$ incide con un parámetro de impacto $b$, entonces la cantidad de partículas que s edetectarán en un ángulo sólido $\\Omega = 2\\pi sin(\\theta)d\\theta$ con probabilidad $\\sigma(\\theta)$ es\n",
    "\n",
    "\\begin{equation} \\tag{1}\n",
    "2\\pi Ib db = I\\sigma(\\theta)d\\Omega ,\n",
    "\\end{equation}\n",
    "\n",
    "y de aquí se deriva la sección eficaz diferencial como\n",
    "\n",
    "\\begin{equation} \\tag{2}\n",
    "\\sigma(\\theta)=\\frac{b}{sin(\\theta)}\\left|\\frac{db}{d\\theta}\\right|.\n",
    "\\end{equation}\n",
    "\n",
    "Si la interacción entre la partícula incidente y el blanco se describe por un potencial con simetría esférica $U(r)$, el momento angular y la energía total se conservan. Formalmente\n",
    "\n",
    "\\begin{equation} \\tag{3} \\label{e3}\n",
    "l = mbv_0 = mr²\\frac{d\\phi}{dt}\n",
    "\\end{equation}\n",
    "\n",
    "y\n",
    "\n",
    "\\begin{equation} \\tag{4} \\label{e4}\n",
    "E = \\frac{1}{2}mv_0^2 = \\frac{1}{2}m\\left(\\frac{dr}{dt}\\right)^2 + \\frac{l^2}{2mr^2} + U(r).\n",
    "\\end{equation}\n",
    "\n",
    "Utilizando a $r$ como variable independiente (en lugar de $t$) en \\eqref{e3} se tiene\n",
    "\n",
    "\\begin{equation} \\tag{5}\n",
    "\\frac{d\\phi}{dr} = \\frac{d\\phi}{dt}\\left(\\frac{dr}{dt}\\right)^{-1} = \\frac{bv_0}{r^2}\\left(\\frac{dr}{dt}\\right)^{-1}.\n",
    "\\end{equation}\n",
    "\n",
    "Resolviendo $\\frac{dr}{dt}$ de \\eqref{e4} se tiene\n",
    "\n",
    "\\begin{equation} \\tag{6}\n",
    "\\frac{d\\phi}{dr} = \\pm \\frac{b}{r^2}\\frac{1}{\\sqrt{1-\\frac{b}{r^2}-\\frac{U(r)}{E}}}\n",
    "\\end{equation}"
   ]
  },
  {
   "cell_type": "code",
   "execution_count": null,
   "id": "close-angle",
   "metadata": {},
   "outputs": [],
   "source": []
  }
 ],
 "metadata": {
  "kernelspec": {
   "display_name": "Python 3",
   "language": "python",
   "name": "python3"
  },
  "language_info": {
   "codemirror_mode": {
    "name": "ipython",
    "version": 3
   },
   "file_extension": ".py",
   "mimetype": "text/x-python",
   "name": "python",
   "nbconvert_exporter": "python",
   "pygments_lexer": "ipython3",
   "version": "3.9.2"
  }
 },
 "nbformat": 4,
 "nbformat_minor": 5
}
