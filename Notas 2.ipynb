{
 "cells": [
  {
   "cell_type": "markdown",
   "id": "swiss-learning",
   "metadata": {},
   "source": [
    "# Lunes 19 de Febrero 2024"
   ]
  },
  {
   "cell_type": "markdown",
   "id": "brazilian-designer",
   "metadata": {},
   "source": [
    "Nota para proyecto: ecuaciones de estado, punto crititco, condensado de Bose-Einstein"
   ]
  },
  {
   "cell_type": "code",
   "execution_count": 23,
   "id": "found-elephant",
   "metadata": {},
   "outputs": [],
   "source": [
    "import numpy as np\n",
    "import sympy as sp\n",
    "import matplotlib.pyplot as plt"
   ]
  },
  {
   "cell_type": "code",
   "execution_count": 12,
   "id": "continuing-insulin",
   "metadata": {},
   "outputs": [
    {
     "data": {
      "text/plain": [
       "1.25"
      ]
     },
     "execution_count": 12,
     "metadata": {},
     "output_type": "execute_result"
    }
   ],
   "source": [
    "def nheron(x,y):\n",
    "    return x+x**2-y\n",
    "nheron(1,0.75)"
   ]
  },
  {
   "cell_type": "code",
   "execution_count": 34,
   "id": "stylish-montgomery",
   "metadata": {},
   "outputs": [
    {
     "data": {
      "text/plain": [
       "19.9498743710662"
      ]
     },
     "execution_count": 34,
     "metadata": {},
     "output_type": "execute_result"
    }
   ],
   "source": [
    "def xp(b):\n",
    "    return b+np.sqrt(b**2-1)\n",
    "xp(10)"
   ]
  },
  {
   "cell_type": "code",
   "execution_count": 25,
   "id": "sharp-technician",
   "metadata": {},
   "outputs": [
    {
     "data": {
      "text/plain": [
       "1.0"
      ]
     },
     "execution_count": 25,
     "metadata": {},
     "output_type": "execute_result"
    }
   ],
   "source": [
    "def xm(b):\n",
    "    return b-np.sqrt(b**2-1)\n",
    "xm(1)"
   ]
  },
  {
   "cell_type": "code",
   "execution_count": 26,
   "id": "swiss-diana",
   "metadata": {},
   "outputs": [
    {
     "data": {
      "text/plain": [
       "1.0"
      ]
     },
     "execution_count": 26,
     "metadata": {},
     "output_type": "execute_result"
    }
   ],
   "source": [
    "def xpi(b):\n",
    "    return 1/xm(b)\n",
    "xpi(1)"
   ]
  },
  {
   "cell_type": "code",
   "execution_count": 27,
   "id": "front-cornwall",
   "metadata": {},
   "outputs": [
    {
     "data": {
      "text/plain": [
       "1.0"
      ]
     },
     "execution_count": 27,
     "metadata": {},
     "output_type": "execute_result"
    }
   ],
   "source": [
    "def xmi(b):\n",
    "    return 1/xp(b)\n",
    "xmi(1)"
   ]
  },
  {
   "cell_type": "code",
   "execution_count": 39,
   "id": "palestinian-hurricane",
   "metadata": {},
   "outputs": [
    {
     "data": {
      "text/plain": [
       "5.684341886080802e-14"
      ]
     },
     "execution_count": 39,
     "metadata": {},
     "output_type": "execute_result"
    }
   ],
   "source": [
    "def errp(b):\n",
    "    return xp(b)**2-2*b*xp(b)+1\n",
    "errp(10)"
   ]
  },
  {
   "cell_type": "code",
   "execution_count": 41,
   "id": "eligible-assault",
   "metadata": {},
   "outputs": [
    {
     "data": {
      "text/plain": [
       "0.0"
      ]
     },
     "execution_count": 41,
     "metadata": {},
     "output_type": "execute_result"
    }
   ],
   "source": [
    "def errm(b):\n",
    "    return xm(b)**2-2*b*xm(b)+1\n",
    "errm(1)"
   ]
  },
  {
   "cell_type": "code",
   "execution_count": 46,
   "id": "assisted-tolerance",
   "metadata": {},
   "outputs": [
    {
     "name": "stderr",
     "output_type": "stream",
     "text": [
      "<ipython-input-34-769ca79f51f2>:2: RuntimeWarning: invalid value encountered in sqrt\n",
      "  return b+np.sqrt(b**2-1)\n"
     ]
    },
    {
     "data": {
      "image/png": "[encoded data removed]",
      "text/plain": [
       "<Figure size 432x288 with 1 Axes>"
      ]
     },
     "metadata": {
      "needs_background": "light"
     },
     "output_type": "display_data"
    }
   ],
   "source": [
    "x=np.linspace(0,1000)\n",
    "err=[errp(b) for b in x]\n",
    "plt.plot(x,err)\n",
    "plt.show()"
   ]
  },
  {
   "cell_type": "markdown",
   "id": "meaningful-parent",
   "metadata": {},
   "source": [
    "# Martes 20 de Febrero 2024"
   ]
  },
  {
   "cell_type": "code",
   "execution_count": 11,
   "id": "celtic-detroit",
   "metadata": {},
   "outputs": [],
   "source": [
    "import numpy as np\n",
    "import sympy as sp\n",
    "import matplotlib.pyplot as plt"
   ]
  },
  {
   "cell_type": "code",
   "execution_count": 21,
   "id": "metropolitan-closer",
   "metadata": {},
   "outputs": [],
   "source": [
    "def f(x,ep,ta):\n",
    "    return ta+ep*np.sin(x)-x\n",
    "\n",
    "def g1(x,ep,ta):\n",
    "    return x+(ta-x+ep*np.sin(x))/(1-ep*np.cos(x))\n",
    "\n",
    "def g2(x,ep,ta):\n",
    "    return ta+ep*np.sin(x)\n",
    "\n",
    "def keplernr(ep,ta):\n",
    "    x=1\n",
    "    while x != g1(x,ep,ta):\n",
    "        x = g1(x,ep,ta)\n",
    "        print(x)"
   ]
  },
  {
   "cell_type": "code",
   "execution_count": 22,
   "id": "extra-mattress",
   "metadata": {},
   "outputs": [
    {
     "name": "stdout",
     "output_type": "stream",
     "text": [
      "1.0889532638373727\n",
      "1.0885977582695516\n",
      "1.0885977523978936\n"
     ]
    }
   ],
   "source": [
    "keplernr(0.1,1)"
   ]
  },
  {
   "cell_type": "code",
   "execution_count": 23,
   "id": "pediatric-barrier",
   "metadata": {},
   "outputs": [],
   "source": [
    "def kalt(ep,ta):\n",
    "    x=1\n",
    "    while x != g2(x,ep,ta):\n",
    "        x = g2(x,ep,ta)\n",
    "        print(x)"
   ]
  },
  {
   "cell_type": "code",
   "execution_count": 24,
   "id": "quantitative-ministry",
   "metadata": {},
   "outputs": [
    {
     "name": "stdout",
     "output_type": "stream",
     "text": [
      "1.0841470984807897\n",
      "1.0883904862293083\n",
      "1.0885881389785554\n",
      "1.0885973065924521\n",
      "1.08859773172463\n",
      "1.0885977514392162\n",
      "1.0885977523534371\n",
      "1.0885977523958321\n",
      "1.088597752397798\n",
      "1.0885977523978891\n",
      "1.0885977523978934\n",
      "1.0885977523978936\n"
     ]
    }
   ],
   "source": [
    "kalt(0.1,1)"
   ]
  },
  {
   "cell_type": "code",
   "execution_count": null,
   "id": "numerous-initial",
   "metadata": {},
   "outputs": [],
   "source": []
  }
 ],
 "metadata": {
  "kernelspec": {
   "display_name": "Python 3",
   "language": "python",
   "name": "python3"
  },
  "language_info": {
   "codemirror_mode": {
    "name": "ipython",
    "version": 3
   },
   "file_extension": ".py",
   "mimetype": "text/x-python",
   "name": "python",
   "nbconvert_exporter": "python",
   "pygments_lexer": "ipython3",
   "version": "3.9.2"
  }
 },
 "nbformat": 4,
 "nbformat_minor": 5
}
