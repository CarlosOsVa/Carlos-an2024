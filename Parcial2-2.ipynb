{
 "cells": [
  {
   "cell_type": "markdown",
   "id": "concrete-apartment",
   "metadata": {},
   "source": [
    "# Martes 19 Marzo 2024\n",
    "\n",
    "Definición de derivada con limites\n",
    "\n",
    "Diferencias finitas\n",
    "\n",
    "Razones para calcular numericamente la derivada\n",
    "1. Función no analitica\n",
    "2. Costoso de evaluar\n",
    "\n",
    "$f(x+h) = f(x) + \\frac{1}{1!}f'(x)h + \\frac{1}{2!}f''(x)h^2 + O(h^3)$\n",
    "\n",
    "-Diferencia hacia adelante\n",
    "\n",
    "$f'(x) = \\frac{f(x+h)-f(x)}{h} + O(h)$\n",
    "\n",
    "-Diferencia hacia atras\n",
    "\n",
    "$f'(x) = \\frac{f(x)-f(x-h)}{h} + O(h)$\n",
    "\n",
    "2 fuentes de error\n",
    "1. Error de aproxiamción\n",
    "\n",
    "$\\epsilon_{app} = \\frac{h}{2}|f''(x)|$\n",
    "\n",
    "2. Error aritmetico\n",
    "\n",
    "Nota: $E_m$ es el error de maquina\n",
    "\n",
    "$h_{op} = \\sqrt{4E_m \\frac{|f(x)|}{|f''(x)|}}$\n",
    "\n",
    "$\\epsilon_ro = \\frac{2|f(x)|E_m}{h}$\n",
    "\n",
    "$f(x+\\frac{h}{2}) = f(x) + \\frac{h}{2}f'(x) + (\\frac{h}{2})^2\\frac{f''(x)}{2!} + (\\frac{h}{2})^3\\frac{f''(x)}{3!}$\n",
    "\n",
    "$f(x-\\frac{h}{2}) = f(x) - \\frac{h}{2}f'(x) + (\\frac{h}{2})^2\\frac{f''(x)}{2!} - (\\frac{h}{2})^3\\frac{f''(x)}{3!}$\n",
    "\n",
    "$f(x+\\frac{h}{2}) - f(x-\\frac{h}{2}) = hf'(x) + (\\frac{h}{2})^3\\frac{2f'''(x)}{3!}$\n",
    "\n",
    "$f'(x) = \\frac{f(x+\\frac{h}{2})-f(x-\\frac{h}{2})}{h}-\\frac{h^2}{24}f'''(x)$\n",
    "\n",
    "Donde el primer término te da las diferencias centrales\n",
    "\n",
    "$h_{op} = (\\frac{9}{8}E_m^2\\frac{|f(x)|}{|f''(x)|})^\\frac{1}{3}$\n",
    "\n",
    "Aplicar con\n",
    "\n",
    "$f(x) = exp(sin(2x))$\n",
    "\n",
    "$x = 0.5$"
   ]
  },
  {
   "cell_type": "code",
   "execution_count": 13,
   "id": "brazilian-improvement",
   "metadata": {},
   "outputs": [
    {
     "name": "stdout",
     "output_type": "stream",
     "text": [
      "[0.01, 2.4807256192968197, 2.5066264877375843, 0.02603591569007424]\n",
      "[0.001, 2.5042064928371133, 2.506760184474821, 0.0025550421497806397]\n",
      "[0.0001, 2.5065065168927703, 2.506761521479106, 0.00025501809412364906]\n",
      "[1e-05, 2.506736038032642, 2.5067615348373096, 2.549695425191345e-05]\n",
      "[1e-06, 2.506758985720836, 2.50676153523699, 2.549266057805255e-06]\n",
      "[1e-07, 2.5067612785534266, 2.5067615361251683, 2.5643346734938177e-07]\n",
      "[1e-08, 2.5067615538887367, 2.5067615538887367, -1.890184275765705e-08]\n",
      "[1e-09, 2.5067619091601046, 2.5067614650708947, -3.7417321063770714e-07]\n"
     ]
    }
   ],
   "source": [
    "import numpy as np\n",
    "import sympy as sy\n",
    "import matplotlib.pyplot as plt\n",
    "\n",
    "def f(x):\n",
    "    return np.exp(np.sin(2*x))\n",
    "\n",
    "def df(x):\n",
    "    return np.exp(np.sin(2*x))*np.cos(2*x)*2\n",
    "\n",
    "def derfw(x,h):\n",
    "    return (f(x+h)-f(x))/h\n",
    "\n",
    "def dercen(x,h):\n",
    "    return (f(x+(h/2))-f(x-(h/2)))/h\n",
    "\n",
    "def er(h):\n",
    "    return df(0.5)-derfw(0.5,h)\n",
    "\n",
    "x=0.5\n",
    "for i in range (2,10):\n",
    "    h=10**-i\n",
    "    print([h,derfw(x,h),dercen(x,h), er(h)])"
   ]
  },
  {
   "cell_type": "code",
   "execution_count": 14,
   "id": "organized-circulation",
   "metadata": {},
   "outputs": [
    {
     "data": {
      "image/png": "[encoded data removed]",
      "text/plain": [
       "<Figure size 432x288 with 1 Axes>"
      ]
     },
     "metadata": {
      "needs_background": "light"
     },
     "output_type": "display_data"
    }
   ],
   "source": [
    "x=np.linspace(1*10**-5,0.1)\n",
    "err=[er(h) for h in x]\n",
    "plt.plot(x,err)\n",
    "plt.show()"
   ]
  },
  {
   "cell_type": "code",
   "execution_count": null,
   "id": "included-wrestling",
   "metadata": {},
   "outputs": [],
   "source": []
  }
 ],
 "metadata": {
  "kernelspec": {
   "display_name": "Python 3",
   "language": "python",
   "name": "python3"
  },
  "language_info": {
   "codemirror_mode": {
    "name": "ipython",
    "version": 3
   },
   "file_extension": ".py",
   "mimetype": "text/x-python",
   "name": "python",
   "nbconvert_exporter": "python",
   "pygments_lexer": "ipython3",
   "version": "3.9.2"
  }
 },
 "nbformat": 4,
 "nbformat_minor": 5
}
